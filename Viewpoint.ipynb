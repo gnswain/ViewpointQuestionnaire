{
 "cells": [
  {
   "cell_type": "markdown",
   "id": "f80b6606",
   "metadata": {},
   "source": [
    "# Viewpoint Assessment  \n",
    "# Author: Graham Swain\n",
    "\n",
    "## Question 1\n",
    "Please reference the below tables, where entries shown are purely examples of what could be in these tables.\n",
    "\n",
    "The first table, <span style=\"color:#c7254e\">Students</span>, has the following columns:\n",
    "- <span style=\"color:#c7254e\">id</span>, a unique integer for each student\n",
    "- <span style=\"color:#c7254e\">name</span>, a string containing the student's name, where the first name is capitalized.\n",
    "\n",
    "The second table, <span style=\"color:#c7254e\">Assignments</span>, has the following columns:\n",
    "- <span style=\"color:#c7254e\">id</span>, a unique integer for each assignment a student has taken\n",
    "- <span style=\"color:#c7254e\">student_id</span>, a foreign key referring to the student table\n",
    "- <span style=\"color:#c7254e\">grade</span>, an integer giving a student's grade on an assignment\n",
    "\n",
    "### **A.** Write a SQL query that returns the id, name, and maximum assignment grade of the student(s) with the highest **average** grade across all assignments.\n",
    "\n",
    "```\n",
    "WITH t1 AS (SELECT avg(grade) as mean\n",
    "            FROM Assignments\n",
    "            GROUP BY student_id),\n",
    "     t2 AS (SELECT Students.id, Students.name, max(grade) as high, avg(grade) as mean\n",
    "            FROM Students JOIN Assignments on Students.id = Assignments.student_id\n",
    "            GROUP BY Students.id)\n",
    "SELECT DISTINCT id, name, high\n",
    "FROM t1, t2\n",
    "WHERE t2.mean = (SELECT max(mean)\n",
    "                 FROM t1);\n",
    "```\n",
    "### **B.** Assume that assignments that are not submitted are simply not entered into the <span style=\"color:#c7254e\">Assignments</span> table. Write a SQL query that returns the names of the students that have not submitted an assignment.\n",
    "\n",
    "```\n",
    "WITH t1 AS (SELECT student_id as id, count(id) as cnt\n",
    "            FROM Assignments\n",
    "            GROUP BY student_id)\n",
    "SELECT max(cnt)\n",
    "FROM t1;\n",
    "```\n",
    "\n",
    "Now assume both tables are instead given to you as pandas DataFrame objects called <span style=\"color:#c7254e\">students_df</span> and <span style=\"color:#c7254e\">assignments_df</span>.\n",
    "\n",
    "### **C.** Write a python function, utilizing pandas, that takes in <span style=\"color:#c7254e\">student_df</span> and returns a new DataFrame of the same <span style=\"color:#c7254e\">id</span>'s and <span style=\"color:#c7254e\">name</span>'s, but where now each <span style=\"color:#c7254e\">name</span> containing the letter “e” is uppercased, and lowercased otherwise (e.g. “Edward” → “EDWARD”, “Bob” → “bob”).\n",
    "\n",
    "This block imports panda and creates a small DataFrame for testing **C** and **D**."
   ]
  },
  {
   "cell_type": "code",
   "execution_count": 1,
   "id": "9f38ad7f",
   "metadata": {},
   "outputs": [],
   "source": [
    "import pandas as pd\n",
    "\n",
    "students_df = pd.DataFrame(\n",
    "    [[1, 'Edward'],\n",
    "     [2, 'Bob'],\n",
    "     [3, 'Zec'],\n",
    "     [4, 'Phil'],\n",
    "     [5, 'Aarone']],\n",
    "    index = [1,2,3,4,5],\n",
    "    columns = ['id', 'name']\n",
    "    )\n",
    "\n",
    "assignments_df = pd.DataFrame(\n",
    "    [[1, 1, 100],\n",
    "     [2, 1, 90],\n",
    "     [3, 1, 95],\n",
    "     [4, 2, 79],\n",
    "     [5, 2, 2],\n",
    "     [6, 3, 84],\n",
    "     [7, 3, 87],\n",
    "     [8, 3, 79],\n",
    "     [9, 4, 95],\n",
    "     [10, 4, 95],\n",
    "     [11, 4, 95],\n",
    "     [12, 5, 10],\n",
    "     [13, 5, 87],\n",
    "     [14, 5, 34]],\n",
    "    index = [1,2,3,4,5,6,7,8,9,10,11,12,13,14],\n",
    "    columns = ['id', 'student_id', 'grade'])"
   ]
  },
  {
   "cell_type": "code",
   "execution_count": 2,
   "id": "b2216f46",
   "metadata": {},
   "outputs": [],
   "source": [
    "def check_e(df):\n",
    "    \"\"\"\n",
    "    Takes in a dataframe of students and puts any names with an 'e' to uppercase\n",
    "    and any name without an 'e' to lowercase.\n",
    "\n",
    "    Parameters\n",
    "    ----------\n",
    "    df : DataFrame\n",
    "        Pandas DataFrame holding students' id and name.\n",
    "\n",
    "    Returns\n",
    "    -------\n",
    "    rtn : DataFrame\n",
    "        Updated DataFrame with names with an 'e' in uppercase and names without\n",
    "        an 'e' in lowercase.\n",
    "\n",
    "    \"\"\"\n",
    "    rtn = df.copy()\n",
    "    # if it contains an 'e' call upper(), if not call lower(). case insensitive\n",
    "    rtn.loc[rtn.name.str.lower().str.contains('e'), 'name'] = rtn.name.str.upper()\n",
    "    rtn.loc[~ rtn.name.str.lower().str.contains('e'), 'name'] = rtn.name.str.lower()\n",
    "    return rtn"
   ]
  },
  {
   "cell_type": "markdown",
   "id": "4a6e2b7f",
   "metadata": {},
   "source": [
    "**Students before:**"
   ]
  },
  {
   "cell_type": "code",
   "execution_count": 3,
   "id": "16a218d1",
   "metadata": {},
   "outputs": [
    {
     "data": {
      "text/html": [
       "<div>\n",
       "<style scoped>\n",
       "    .dataframe tbody tr th:only-of-type {\n",
       "        vertical-align: middle;\n",
       "    }\n",
       "\n",
       "    .dataframe tbody tr th {\n",
       "        vertical-align: top;\n",
       "    }\n",
       "\n",
       "    .dataframe thead th {\n",
       "        text-align: right;\n",
       "    }\n",
       "</style>\n",
       "<table border=\"1\" class=\"dataframe\">\n",
       "  <thead>\n",
       "    <tr style=\"text-align: right;\">\n",
       "      <th></th>\n",
       "      <th>id</th>\n",
       "      <th>name</th>\n",
       "    </tr>\n",
       "  </thead>\n",
       "  <tbody>\n",
       "    <tr>\n",
       "      <th>1</th>\n",
       "      <td>1</td>\n",
       "      <td>Edward</td>\n",
       "    </tr>\n",
       "    <tr>\n",
       "      <th>2</th>\n",
       "      <td>2</td>\n",
       "      <td>Bob</td>\n",
       "    </tr>\n",
       "    <tr>\n",
       "      <th>3</th>\n",
       "      <td>3</td>\n",
       "      <td>Zec</td>\n",
       "    </tr>\n",
       "    <tr>\n",
       "      <th>4</th>\n",
       "      <td>4</td>\n",
       "      <td>Phil</td>\n",
       "    </tr>\n",
       "    <tr>\n",
       "      <th>5</th>\n",
       "      <td>5</td>\n",
       "      <td>Aarone</td>\n",
       "    </tr>\n",
       "  </tbody>\n",
       "</table>\n",
       "</div>"
      ],
      "text/plain": [
       "   id    name\n",
       "1   1  Edward\n",
       "2   2     Bob\n",
       "3   3     Zec\n",
       "4   4    Phil\n",
       "5   5  Aarone"
      ]
     },
     "execution_count": 3,
     "metadata": {},
     "output_type": "execute_result"
    }
   ],
   "source": [
    "students_df"
   ]
  },
  {
   "cell_type": "code",
   "execution_count": 4,
   "id": "08fa97ee",
   "metadata": {},
   "outputs": [],
   "source": [
    "students_lower_df = check_e(students_df)"
   ]
  },
  {
   "cell_type": "markdown",
   "id": "965e16a4",
   "metadata": {},
   "source": [
    "**Student's after:**"
   ]
  },
  {
   "cell_type": "code",
   "execution_count": 5,
   "id": "38f248ba",
   "metadata": {},
   "outputs": [
    {
     "data": {
      "text/html": [
       "<div>\n",
       "<style scoped>\n",
       "    .dataframe tbody tr th:only-of-type {\n",
       "        vertical-align: middle;\n",
       "    }\n",
       "\n",
       "    .dataframe tbody tr th {\n",
       "        vertical-align: top;\n",
       "    }\n",
       "\n",
       "    .dataframe thead th {\n",
       "        text-align: right;\n",
       "    }\n",
       "</style>\n",
       "<table border=\"1\" class=\"dataframe\">\n",
       "  <thead>\n",
       "    <tr style=\"text-align: right;\">\n",
       "      <th></th>\n",
       "      <th>id</th>\n",
       "      <th>name</th>\n",
       "    </tr>\n",
       "  </thead>\n",
       "  <tbody>\n",
       "    <tr>\n",
       "      <th>1</th>\n",
       "      <td>1</td>\n",
       "      <td>EDWARD</td>\n",
       "    </tr>\n",
       "    <tr>\n",
       "      <th>2</th>\n",
       "      <td>2</td>\n",
       "      <td>bob</td>\n",
       "    </tr>\n",
       "    <tr>\n",
       "      <th>3</th>\n",
       "      <td>3</td>\n",
       "      <td>ZEC</td>\n",
       "    </tr>\n",
       "    <tr>\n",
       "      <th>4</th>\n",
       "      <td>4</td>\n",
       "      <td>phil</td>\n",
       "    </tr>\n",
       "    <tr>\n",
       "      <th>5</th>\n",
       "      <td>5</td>\n",
       "      <td>AARONE</td>\n",
       "    </tr>\n",
       "  </tbody>\n",
       "</table>\n",
       "</div>"
      ],
      "text/plain": [
       "   id    name\n",
       "1   1  EDWARD\n",
       "2   2     bob\n",
       "3   3     ZEC\n",
       "4   4    phil\n",
       "5   5  AARONE"
      ]
     },
     "execution_count": 5,
     "metadata": {},
     "output_type": "execute_result"
    }
   ],
   "source": [
    "students_lower_df"
   ]
  },
  {
   "cell_type": "markdown",
   "id": "38a3718e",
   "metadata": {},
   "source": [
    "### **D.** Now write a python function that takes in the output DataFrame of the function written above, along with <span style=\"color:#c7254e\">assignments_df</span>, and returns a data frame that summarizes the average grade of uppercase named students and lowercase named students."
   ]
  },
  {
   "cell_type": "code",
   "execution_count": 6,
   "id": "5fcaba6b",
   "metadata": {},
   "outputs": [],
   "source": [
    "def case_average(students_df, assignments_df):\n",
    "    \"\"\"\n",
    "    Takes in students_df after running check_e() and assignments_df. Averages\n",
    "    grades of students with uppercase and lowercase names.\n",
    "\n",
    "    Parameters\n",
    "    ----------\n",
    "    students_df : DataFrame\n",
    "        Holds information of students with all names either all uppercase or all\n",
    "        lowercase based on if they contain an 'e'.\n",
    "    assignments_df : DataFrame\n",
    "        Holds information of assignments turned in by students.\n",
    "\n",
    "    Returns\n",
    "    -------\n",
    "    Average of grades with students grouped by the case of their name.\n",
    "\n",
    "    \"\"\"\n",
    "    # combines the DataFrames using students.id and assignments.student_id\n",
    "    combined_df = students_df.merge(assignments_df, left_on='id', right_on='student_id')\n",
    "    # removes unnecessary columns\n",
    "    combined_df.drop(['id_x', 'id_y', 'student_id'], inplace = True, axis = 1)\n",
    "    \n",
    "    # averages grades based off the case of students name\n",
    "    upper_avg = combined_df[combined_df.name.str.isupper()].mean()\n",
    "    lower_avg = combined_df[combined_df.name.str.islower()].mean()\n",
    "    \n",
    "    # creates new dataframe holding the averages\n",
    "    rtn_df = pd.DataFrame({'Uppercase': upper_avg, 'Lowercase': lower_avg})\n",
    "    rtn_df.rename(index = {'grade': 'average'}, inplace = True)\n",
    "    return rtn_df"
   ]
  },
  {
   "cell_type": "markdown",
   "id": "8359f3c7",
   "metadata": {},
   "source": [
    "**Finding averages of uppercase and lowercase Students:**"
   ]
  },
  {
   "cell_type": "code",
   "execution_count": 7,
   "id": "a253b0f1",
   "metadata": {},
   "outputs": [],
   "source": [
    "averages = case_average(students_lower_df, assignments_df)"
   ]
  },
  {
   "cell_type": "code",
   "execution_count": 8,
   "id": "7077961f",
   "metadata": {},
   "outputs": [
    {
     "data": {
      "text/html": [
       "<div>\n",
       "<style scoped>\n",
       "    .dataframe tbody tr th:only-of-type {\n",
       "        vertical-align: middle;\n",
       "    }\n",
       "\n",
       "    .dataframe tbody tr th {\n",
       "        vertical-align: top;\n",
       "    }\n",
       "\n",
       "    .dataframe thead th {\n",
       "        text-align: right;\n",
       "    }\n",
       "</style>\n",
       "<table border=\"1\" class=\"dataframe\">\n",
       "  <thead>\n",
       "    <tr style=\"text-align: right;\">\n",
       "      <th></th>\n",
       "      <th>Uppercase</th>\n",
       "      <th>Lowercase</th>\n",
       "    </tr>\n",
       "  </thead>\n",
       "  <tbody>\n",
       "    <tr>\n",
       "      <th>average</th>\n",
       "      <td>74.0</td>\n",
       "      <td>73.2</td>\n",
       "    </tr>\n",
       "  </tbody>\n",
       "</table>\n",
       "</div>"
      ],
      "text/plain": [
       "         Uppercase  Lowercase\n",
       "average       74.0       73.2"
      ]
     },
     "execution_count": 8,
     "metadata": {},
     "output_type": "execute_result"
    }
   ],
   "source": [
    "averages"
   ]
  },
  {
   "cell_type": "markdown",
   "id": "9c6c4337",
   "metadata": {},
   "source": [
    "## Question 2\n",
    "Consider the data set below.  Write some python code that illustrates some common feature engineering and/or data preparation tasks.  \n",
    "\n",
    "https://raw.githubusercontent.com/ireapps/white-house-salaries-2017/master/white_house_2017_salaries.csv"
   ]
  },
  {
   "cell_type": "markdown",
   "id": "eded6d47",
   "metadata": {},
   "source": [
    "Importing data:"
   ]
  },
  {
   "cell_type": "code",
   "execution_count": 9,
   "id": "c341ba7a",
   "metadata": {},
   "outputs": [],
   "source": [
    "wh_df = pd.read_csv('https://raw.githubusercontent.com/ireapps/white-house-salaries-2017/master/white_house_2017_salaries.csv')"
   ]
  },
  {
   "cell_type": "markdown",
   "id": "f7f2db4f",
   "metadata": {},
   "source": [
    "We will run a few commands to see the basics of the dataset."
   ]
  },
  {
   "cell_type": "code",
   "execution_count": 10,
   "id": "f749063e",
   "metadata": {},
   "outputs": [
    {
     "data": {
      "text/html": [
       "<div>\n",
       "<style scoped>\n",
       "    .dataframe tbody tr th:only-of-type {\n",
       "        vertical-align: middle;\n",
       "    }\n",
       "\n",
       "    .dataframe tbody tr th {\n",
       "        vertical-align: top;\n",
       "    }\n",
       "\n",
       "    .dataframe thead th {\n",
       "        text-align: right;\n",
       "    }\n",
       "</style>\n",
       "<table border=\"1\" class=\"dataframe\">\n",
       "  <thead>\n",
       "    <tr style=\"text-align: right;\">\n",
       "      <th></th>\n",
       "      <th>NAME</th>\n",
       "      <th>STATUS</th>\n",
       "      <th>SALARY</th>\n",
       "      <th>PAY BASIS</th>\n",
       "      <th>POSITION TITLE</th>\n",
       "    </tr>\n",
       "  </thead>\n",
       "  <tbody>\n",
       "    <tr>\n",
       "      <th>0</th>\n",
       "      <td>Alexander, Monica K.</td>\n",
       "      <td>Employee</td>\n",
       "      <td>$56,000.00</td>\n",
       "      <td>Per Annum</td>\n",
       "      <td>EXECUTIVE ASSISTANT</td>\n",
       "    </tr>\n",
       "    <tr>\n",
       "      <th>1</th>\n",
       "      <td>Ambrosini, Michael J.</td>\n",
       "      <td>Employee</td>\n",
       "      <td>$95,000.00</td>\n",
       "      <td>Per Annum</td>\n",
       "      <td>SPECIAL ASSISTANT TO THE PRESIDENT AND DIRECTO...</td>\n",
       "    </tr>\n",
       "    <tr>\n",
       "      <th>2</th>\n",
       "      <td>Amin, Stacy C.</td>\n",
       "      <td>Employee</td>\n",
       "      <td>$140,000.00</td>\n",
       "      <td>Per Annum</td>\n",
       "      <td>SPECIAL ASSISTANT TO THE PRESIDENT AND ASSOCIA...</td>\n",
       "    </tr>\n",
       "    <tr>\n",
       "      <th>3</th>\n",
       "      <td>Andersen, Whitney N.</td>\n",
       "      <td>Employee</td>\n",
       "      <td>$94,000.00</td>\n",
       "      <td>Per Annum</td>\n",
       "      <td>DEPUTY DIRECTOR OF OPERATIONS FOR THE WHITE HO...</td>\n",
       "    </tr>\n",
       "    <tr>\n",
       "      <th>4</th>\n",
       "      <td>Anderson, Alexander J.</td>\n",
       "      <td>Employee</td>\n",
       "      <td>$77,000.00</td>\n",
       "      <td>Per Annum</td>\n",
       "      <td>DIRECTOR OF DIGITAL ENGAGEMENT</td>\n",
       "    </tr>\n",
       "  </tbody>\n",
       "</table>\n",
       "</div>"
      ],
      "text/plain": [
       "                     NAME    STATUS        SALARY  PAY BASIS  \\\n",
       "0    Alexander, Monica K.  Employee   $56,000.00   Per Annum   \n",
       "1   Ambrosini, Michael J.  Employee   $95,000.00   Per Annum   \n",
       "2          Amin, Stacy C.  Employee  $140,000.00   Per Annum   \n",
       "3    Andersen, Whitney N.  Employee   $94,000.00   Per Annum   \n",
       "4  Anderson, Alexander J.  Employee   $77,000.00   Per Annum   \n",
       "\n",
       "                                      POSITION TITLE  \n",
       "0                                EXECUTIVE ASSISTANT  \n",
       "1  SPECIAL ASSISTANT TO THE PRESIDENT AND DIRECTO...  \n",
       "2  SPECIAL ASSISTANT TO THE PRESIDENT AND ASSOCIA...  \n",
       "3  DEPUTY DIRECTOR OF OPERATIONS FOR THE WHITE HO...  \n",
       "4                     DIRECTOR OF DIGITAL ENGAGEMENT  "
      ]
     },
     "execution_count": 10,
     "metadata": {},
     "output_type": "execute_result"
    }
   ],
   "source": [
    "wh_df.head()"
   ]
  },
  {
   "cell_type": "code",
   "execution_count": 11,
   "id": "cda84ed3",
   "metadata": {},
   "outputs": [
    {
     "name": "stdout",
     "output_type": "stream",
     "text": [
      "<class 'pandas.core.frame.DataFrame'>\n",
      "RangeIndex: 377 entries, 0 to 376\n",
      "Data columns (total 5 columns):\n",
      " #   Column          Non-Null Count  Dtype \n",
      "---  ------          --------------  ----- \n",
      " 0   NAME            377 non-null    object\n",
      " 1   STATUS          377 non-null    object\n",
      " 2   SALARY          377 non-null    object\n",
      " 3   PAY BASIS       377 non-null    object\n",
      " 4   POSITION TITLE  377 non-null    object\n",
      "dtypes: object(5)\n",
      "memory usage: 14.9+ KB\n"
     ]
    }
   ],
   "source": [
    "wh_df.info()"
   ]
  },
  {
   "cell_type": "code",
   "execution_count": 12,
   "id": "8c9583e4",
   "metadata": {
    "scrolled": true
   },
   "outputs": [
    {
     "data": {
      "text/html": [
       "<div>\n",
       "<style scoped>\n",
       "    .dataframe tbody tr th:only-of-type {\n",
       "        vertical-align: middle;\n",
       "    }\n",
       "\n",
       "    .dataframe tbody tr th {\n",
       "        vertical-align: top;\n",
       "    }\n",
       "\n",
       "    .dataframe thead th {\n",
       "        text-align: right;\n",
       "    }\n",
       "</style>\n",
       "<table border=\"1\" class=\"dataframe\">\n",
       "  <thead>\n",
       "    <tr style=\"text-align: right;\">\n",
       "      <th></th>\n",
       "      <th>NAME</th>\n",
       "      <th>STATUS</th>\n",
       "      <th>SALARY</th>\n",
       "      <th>PAY BASIS</th>\n",
       "      <th>POSITION TITLE</th>\n",
       "    </tr>\n",
       "  </thead>\n",
       "  <tbody>\n",
       "    <tr>\n",
       "      <th>count</th>\n",
       "      <td>377</td>\n",
       "      <td>377</td>\n",
       "      <td>377</td>\n",
       "      <td>377</td>\n",
       "      <td>377</td>\n",
       "    </tr>\n",
       "    <tr>\n",
       "      <th>unique</th>\n",
       "      <td>377</td>\n",
       "      <td>3</td>\n",
       "      <td>74</td>\n",
       "      <td>1</td>\n",
       "      <td>215</td>\n",
       "    </tr>\n",
       "    <tr>\n",
       "      <th>top</th>\n",
       "      <td>Walters, Lindsay E.</td>\n",
       "      <td>Employee</td>\n",
       "      <td>$115,000.00</td>\n",
       "      <td>Per Annum</td>\n",
       "      <td>EXECUTIVE ASSISTANT</td>\n",
       "    </tr>\n",
       "    <tr>\n",
       "      <th>freq</th>\n",
       "      <td>1</td>\n",
       "      <td>358</td>\n",
       "      <td>46</td>\n",
       "      <td>377</td>\n",
       "      <td>20</td>\n",
       "    </tr>\n",
       "  </tbody>\n",
       "</table>\n",
       "</div>"
      ],
      "text/plain": [
       "                       NAME    STATUS        SALARY  PAY BASIS  \\\n",
       "count                   377       377           377        377   \n",
       "unique                  377         3            74          1   \n",
       "top     Walters, Lindsay E.  Employee  $115,000.00   Per Annum   \n",
       "freq                      1       358            46        377   \n",
       "\n",
       "             POSITION TITLE  \n",
       "count                   377  \n",
       "unique                  215  \n",
       "top     EXECUTIVE ASSISTANT  \n",
       "freq                     20  "
      ]
     },
     "execution_count": 12,
     "metadata": {},
     "output_type": "execute_result"
    }
   ],
   "source": [
    "wh_df.describe()"
   ]
  },
  {
   "cell_type": "markdown",
   "id": "5021401a",
   "metadata": {},
   "source": [
    "- head() shows the first four rows of the dataset so we can see what it looks like.\n",
    "- info() shows each column as well as its type and amount of non-null entries.\n",
    "- describe() shows how many rows there are and how many unique values there are in each column.\n",
    "\n",
    "Between info() and describe() we see that there are 377 rows and each column has 377 non-null values.\n",
    "\n",
    "We also see that SALARY is stored as an object. If we want to perform any analysis on it, we will need it as a numeric value. In this case, storing it as an int would likely work as it seems like all of the salaries are whole numbers, but I am going to convert it to a float just in case there are any with decimal values."
   ]
  },
  {
   "cell_type": "code",
   "execution_count": 13,
   "id": "ce3ac4e3",
   "metadata": {},
   "outputs": [],
   "source": [
    "wh_df.SALARY = wh_df.SALARY.astype(str).str.replace(',', '').str.strip('$').astype(float)"
   ]
  },
  {
   "cell_type": "code",
   "execution_count": 14,
   "id": "2fca5ea1",
   "metadata": {},
   "outputs": [
    {
     "data": {
      "text/html": [
       "<div>\n",
       "<style scoped>\n",
       "    .dataframe tbody tr th:only-of-type {\n",
       "        vertical-align: middle;\n",
       "    }\n",
       "\n",
       "    .dataframe tbody tr th {\n",
       "        vertical-align: top;\n",
       "    }\n",
       "\n",
       "    .dataframe thead th {\n",
       "        text-align: right;\n",
       "    }\n",
       "</style>\n",
       "<table border=\"1\" class=\"dataframe\">\n",
       "  <thead>\n",
       "    <tr style=\"text-align: right;\">\n",
       "      <th></th>\n",
       "      <th>NAME</th>\n",
       "      <th>STATUS</th>\n",
       "      <th>SALARY</th>\n",
       "      <th>PAY BASIS</th>\n",
       "      <th>POSITION TITLE</th>\n",
       "    </tr>\n",
       "  </thead>\n",
       "  <tbody>\n",
       "    <tr>\n",
       "      <th>0</th>\n",
       "      <td>Alexander, Monica K.</td>\n",
       "      <td>Employee</td>\n",
       "      <td>56000.0</td>\n",
       "      <td>Per Annum</td>\n",
       "      <td>EXECUTIVE ASSISTANT</td>\n",
       "    </tr>\n",
       "    <tr>\n",
       "      <th>1</th>\n",
       "      <td>Ambrosini, Michael J.</td>\n",
       "      <td>Employee</td>\n",
       "      <td>95000.0</td>\n",
       "      <td>Per Annum</td>\n",
       "      <td>SPECIAL ASSISTANT TO THE PRESIDENT AND DIRECTO...</td>\n",
       "    </tr>\n",
       "    <tr>\n",
       "      <th>2</th>\n",
       "      <td>Amin, Stacy C.</td>\n",
       "      <td>Employee</td>\n",
       "      <td>140000.0</td>\n",
       "      <td>Per Annum</td>\n",
       "      <td>SPECIAL ASSISTANT TO THE PRESIDENT AND ASSOCIA...</td>\n",
       "    </tr>\n",
       "    <tr>\n",
       "      <th>3</th>\n",
       "      <td>Andersen, Whitney N.</td>\n",
       "      <td>Employee</td>\n",
       "      <td>94000.0</td>\n",
       "      <td>Per Annum</td>\n",
       "      <td>DEPUTY DIRECTOR OF OPERATIONS FOR THE WHITE HO...</td>\n",
       "    </tr>\n",
       "    <tr>\n",
       "      <th>4</th>\n",
       "      <td>Anderson, Alexander J.</td>\n",
       "      <td>Employee</td>\n",
       "      <td>77000.0</td>\n",
       "      <td>Per Annum</td>\n",
       "      <td>DIRECTOR OF DIGITAL ENGAGEMENT</td>\n",
       "    </tr>\n",
       "  </tbody>\n",
       "</table>\n",
       "</div>"
      ],
      "text/plain": [
       "                     NAME    STATUS    SALARY  PAY BASIS  \\\n",
       "0    Alexander, Monica K.  Employee   56000.0  Per Annum   \n",
       "1   Ambrosini, Michael J.  Employee   95000.0  Per Annum   \n",
       "2          Amin, Stacy C.  Employee  140000.0  Per Annum   \n",
       "3    Andersen, Whitney N.  Employee   94000.0  Per Annum   \n",
       "4  Anderson, Alexander J.  Employee   77000.0  Per Annum   \n",
       "\n",
       "                                      POSITION TITLE  \n",
       "0                                EXECUTIVE ASSISTANT  \n",
       "1  SPECIAL ASSISTANT TO THE PRESIDENT AND DIRECTO...  \n",
       "2  SPECIAL ASSISTANT TO THE PRESIDENT AND ASSOCIA...  \n",
       "3  DEPUTY DIRECTOR OF OPERATIONS FOR THE WHITE HO...  \n",
       "4                     DIRECTOR OF DIGITAL ENGAGEMENT  "
      ]
     },
     "execution_count": 14,
     "metadata": {},
     "output_type": "execute_result"
    }
   ],
   "source": [
    "wh_df.head()"
   ]
  },
  {
   "cell_type": "markdown",
   "id": "33f73a63",
   "metadata": {},
   "source": [
    "Another problem is 'PAY BASIS' and 'POSITION TITLE' contain a whitespace in the name, which I will replace with an underscore.\n",
    "\n",
    "I am also going to make them lowercase to make it a little easier to work with."
   ]
  },
  {
   "cell_type": "code",
   "execution_count": 15,
   "id": "5e1bb281",
   "metadata": {},
   "outputs": [],
   "source": [
    "wh_df.columns = wh_df.columns.str.replace(\"\\s\", \"_\", regex = True).str.lower()"
   ]
  },
  {
   "cell_type": "code",
   "execution_count": 16,
   "id": "c79f8b19",
   "metadata": {},
   "outputs": [
    {
     "data": {
      "text/plain": [
       "Index(['name', 'status', 'salary', 'pay_basis', 'position_title'], dtype='object')"
      ]
     },
     "execution_count": 16,
     "metadata": {},
     "output_type": "execute_result"
    }
   ],
   "source": [
    "wh_df.columns"
   ]
  },
  {
   "cell_type": "markdown",
   "id": "831feaf3",
   "metadata": {},
   "source": [
    "Now we will look at the unique values in Status and Position Title to see if there is anything that could be used for models."
   ]
  },
  {
   "cell_type": "code",
   "execution_count": 17,
   "id": "da4c952c",
   "metadata": {},
   "outputs": [
    {
     "data": {
      "text/plain": [
       "array(['Employee', 'Detailee', 'Employee       '], dtype=object)"
      ]
     },
     "execution_count": 17,
     "metadata": {},
     "output_type": "execute_result"
    }
   ],
   "source": [
    "wh_df.status.unique()"
   ]
  },
  {
   "cell_type": "markdown",
   "id": "fc8a791a",
   "metadata": {},
   "source": [
    "Status only has Employees and Detailees, we just need to strip it real quick to fix the 'Employee       '."
   ]
  },
  {
   "cell_type": "code",
   "execution_count": 18,
   "id": "24dae84b",
   "metadata": {},
   "outputs": [],
   "source": [
    "wh_df.status = wh_df.status.str.strip()"
   ]
  },
  {
   "cell_type": "code",
   "execution_count": 19,
   "id": "95b254d2",
   "metadata": {},
   "outputs": [
    {
     "data": {
      "text/plain": [
       "array(['Employee', 'Detailee'], dtype=object)"
      ]
     },
     "execution_count": 19,
     "metadata": {},
     "output_type": "execute_result"
    }
   ],
   "source": [
    "wh_df.status.unique()"
   ]
  },
  {
   "cell_type": "markdown",
   "id": "bce42d8a",
   "metadata": {},
   "source": [
    "We do not need to do anything further to Status as it only contains two unique values, which is pretty easy to work with.\n",
    "\n",
    "Position Title on the other hand has 215 unique values. A lot of people hold multiple titles, like Michael J. Ambrosini (second entry), who is the *SPECIAL ASSISTANT TO THE PRESIDENT AND DIRECTOR OF THE OFFICE OF THE CHIEF OF STAFF*.\n",
    "It is hard to work with this many unique values, so it would be beneficial to creatue more features that can be used to group people with similar titles together."
   ]
  },
  {
   "cell_type": "code",
   "execution_count": 20,
   "id": "2eebf25f",
   "metadata": {},
   "outputs": [],
   "source": [
    "# commented out because it takes up a lot of space\n",
    "#wh_df.position_title.unique()"
   ]
  },
  {
   "cell_type": "code",
   "execution_count": 21,
   "id": "ed0711e4",
   "metadata": {},
   "outputs": [],
   "source": [
    "def add_roles(df, role):\n",
    "    \"\"\"\n",
    "    Takes in the White House Salaries DataFrame and searches from a specified role\n",
    "    in Position Title. Adds a column to the DataFrame with a 1 if the person holds\n",
    "    the specified role and 0 if not.\n",
    "\n",
    "    Parameters\n",
    "    ----------\n",
    "    df : DataFrame\n",
    "        Holds salary information about White House Staff.\n",
    "    role : str\n",
    "        Role being searched for.\n",
    "    \"\"\"\n",
    "    # checks if the role being searched for is in the Position Title\n",
    "    role_df = df.position_title.apply(lambda title: 1 if role in title else 0)\n",
    "    role_df.rename(\"{}\".format(role.lower().replace(' ', '_')), inplace = True)\n",
    "    # adds it to the original DataFrame\n",
    "    df = pd.concat([df, role_df], axis = 1)\n",
    "    return df\n",
    "\n",
    "wh_df = add_roles(wh_df, 'ADVISOR') \n",
    "wh_df = add_roles(wh_df, 'ASSISTANT')\n",
    "wh_df = add_roles(wh_df, 'ASSOCIATE')\n",
    "wh_df = add_roles(wh_df, 'CHIEF')\n",
    "wh_df = add_roles(wh_df, 'DEPUTY')\n",
    "wh_df = add_roles(wh_df, 'DIRECTOR')\n",
    "wh_df = add_roles(wh_df, 'EXECUTIVE')\n",
    "wh_df = add_roles(wh_df, 'FIRST LADY')\n",
    "wh_df = add_roles(wh_df, 'PRESIDENT')\n",
    "wh_df = add_roles(wh_df, 'PRESS')\n",
    "wh_df = add_roles(wh_df, 'SENIOR') \n",
    "wh_df = add_roles(wh_df, 'SPECIAL') "
   ]
  },
  {
   "cell_type": "code",
   "execution_count": 22,
   "id": "e0d3bab4",
   "metadata": {},
   "outputs": [
    {
     "data": {
      "text/html": [
       "<div>\n",
       "<style scoped>\n",
       "    .dataframe tbody tr th:only-of-type {\n",
       "        vertical-align: middle;\n",
       "    }\n",
       "\n",
       "    .dataframe tbody tr th {\n",
       "        vertical-align: top;\n",
       "    }\n",
       "\n",
       "    .dataframe thead th {\n",
       "        text-align: right;\n",
       "    }\n",
       "</style>\n",
       "<table border=\"1\" class=\"dataframe\">\n",
       "  <thead>\n",
       "    <tr style=\"text-align: right;\">\n",
       "      <th></th>\n",
       "      <th>name</th>\n",
       "      <th>status</th>\n",
       "      <th>salary</th>\n",
       "      <th>pay_basis</th>\n",
       "      <th>position_title</th>\n",
       "      <th>advisor</th>\n",
       "      <th>assistant</th>\n",
       "      <th>associate</th>\n",
       "      <th>chief</th>\n",
       "      <th>deputy</th>\n",
       "      <th>director</th>\n",
       "      <th>executive</th>\n",
       "      <th>first_lady</th>\n",
       "      <th>president</th>\n",
       "      <th>press</th>\n",
       "      <th>senior</th>\n",
       "      <th>special</th>\n",
       "    </tr>\n",
       "  </thead>\n",
       "  <tbody>\n",
       "    <tr>\n",
       "      <th>0</th>\n",
       "      <td>Alexander, Monica K.</td>\n",
       "      <td>Employee</td>\n",
       "      <td>56000.0</td>\n",
       "      <td>Per Annum</td>\n",
       "      <td>EXECUTIVE ASSISTANT</td>\n",
       "      <td>0</td>\n",
       "      <td>1</td>\n",
       "      <td>0</td>\n",
       "      <td>0</td>\n",
       "      <td>0</td>\n",
       "      <td>0</td>\n",
       "      <td>1</td>\n",
       "      <td>0</td>\n",
       "      <td>0</td>\n",
       "      <td>0</td>\n",
       "      <td>0</td>\n",
       "      <td>0</td>\n",
       "    </tr>\n",
       "    <tr>\n",
       "      <th>1</th>\n",
       "      <td>Ambrosini, Michael J.</td>\n",
       "      <td>Employee</td>\n",
       "      <td>95000.0</td>\n",
       "      <td>Per Annum</td>\n",
       "      <td>SPECIAL ASSISTANT TO THE PRESIDENT AND DIRECTO...</td>\n",
       "      <td>0</td>\n",
       "      <td>1</td>\n",
       "      <td>0</td>\n",
       "      <td>1</td>\n",
       "      <td>0</td>\n",
       "      <td>1</td>\n",
       "      <td>0</td>\n",
       "      <td>0</td>\n",
       "      <td>1</td>\n",
       "      <td>0</td>\n",
       "      <td>0</td>\n",
       "      <td>1</td>\n",
       "    </tr>\n",
       "    <tr>\n",
       "      <th>2</th>\n",
       "      <td>Amin, Stacy C.</td>\n",
       "      <td>Employee</td>\n",
       "      <td>140000.0</td>\n",
       "      <td>Per Annum</td>\n",
       "      <td>SPECIAL ASSISTANT TO THE PRESIDENT AND ASSOCIA...</td>\n",
       "      <td>0</td>\n",
       "      <td>1</td>\n",
       "      <td>1</td>\n",
       "      <td>0</td>\n",
       "      <td>0</td>\n",
       "      <td>0</td>\n",
       "      <td>0</td>\n",
       "      <td>0</td>\n",
       "      <td>1</td>\n",
       "      <td>0</td>\n",
       "      <td>0</td>\n",
       "      <td>1</td>\n",
       "    </tr>\n",
       "    <tr>\n",
       "      <th>3</th>\n",
       "      <td>Andersen, Whitney N.</td>\n",
       "      <td>Employee</td>\n",
       "      <td>94000.0</td>\n",
       "      <td>Per Annum</td>\n",
       "      <td>DEPUTY DIRECTOR OF OPERATIONS FOR THE WHITE HO...</td>\n",
       "      <td>0</td>\n",
       "      <td>0</td>\n",
       "      <td>0</td>\n",
       "      <td>0</td>\n",
       "      <td>1</td>\n",
       "      <td>1</td>\n",
       "      <td>0</td>\n",
       "      <td>0</td>\n",
       "      <td>0</td>\n",
       "      <td>0</td>\n",
       "      <td>0</td>\n",
       "      <td>0</td>\n",
       "    </tr>\n",
       "    <tr>\n",
       "      <th>4</th>\n",
       "      <td>Anderson, Alexander J.</td>\n",
       "      <td>Employee</td>\n",
       "      <td>77000.0</td>\n",
       "      <td>Per Annum</td>\n",
       "      <td>DIRECTOR OF DIGITAL ENGAGEMENT</td>\n",
       "      <td>0</td>\n",
       "      <td>0</td>\n",
       "      <td>0</td>\n",
       "      <td>0</td>\n",
       "      <td>0</td>\n",
       "      <td>1</td>\n",
       "      <td>0</td>\n",
       "      <td>0</td>\n",
       "      <td>0</td>\n",
       "      <td>0</td>\n",
       "      <td>0</td>\n",
       "      <td>0</td>\n",
       "    </tr>\n",
       "  </tbody>\n",
       "</table>\n",
       "</div>"
      ],
      "text/plain": [
       "                     name    status    salary  pay_basis  \\\n",
       "0    Alexander, Monica K.  Employee   56000.0  Per Annum   \n",
       "1   Ambrosini, Michael J.  Employee   95000.0  Per Annum   \n",
       "2          Amin, Stacy C.  Employee  140000.0  Per Annum   \n",
       "3    Andersen, Whitney N.  Employee   94000.0  Per Annum   \n",
       "4  Anderson, Alexander J.  Employee   77000.0  Per Annum   \n",
       "\n",
       "                                      position_title  advisor  assistant  \\\n",
       "0                                EXECUTIVE ASSISTANT        0          1   \n",
       "1  SPECIAL ASSISTANT TO THE PRESIDENT AND DIRECTO...        0          1   \n",
       "2  SPECIAL ASSISTANT TO THE PRESIDENT AND ASSOCIA...        0          1   \n",
       "3  DEPUTY DIRECTOR OF OPERATIONS FOR THE WHITE HO...        0          0   \n",
       "4                     DIRECTOR OF DIGITAL ENGAGEMENT        0          0   \n",
       "\n",
       "   associate  chief  deputy  director  executive  first_lady  president  \\\n",
       "0          0      0       0         0          1           0          0   \n",
       "1          0      1       0         1          0           0          1   \n",
       "2          1      0       0         0          0           0          1   \n",
       "3          0      0       1         1          0           0          0   \n",
       "4          0      0       0         1          0           0          0   \n",
       "\n",
       "   press  senior  special  \n",
       "0      0       0        0  \n",
       "1      0       0        1  \n",
       "2      0       0        1  \n",
       "3      0       0        0  \n",
       "4      0       0        0  "
      ]
     },
     "execution_count": 22,
     "metadata": {},
     "output_type": "execute_result"
    }
   ],
   "source": [
    "wh_df.head()"
   ]
  },
  {
   "cell_type": "markdown",
   "id": "f243f787",
   "metadata": {},
   "source": [
    "This creates an easy way to identify and group employees with similar roles or seniority. It could be refined to where it creates better groupings, but this is a good start.\n"
   ]
  },
  {
   "cell_type": "markdown",
   "id": "d9891a39",
   "metadata": {},
   "source": [
    "## Question 3\n",
    "\n",
    "Consider the file “data.csv” in the following GitHub repository.  What are some descriptive statistics about this set?  What can you say about the distribution of this data?\n",
    "https://github.com/fractalbass/data_engineer"
   ]
  },
  {
   "cell_type": "code",
   "execution_count": 23,
   "id": "4c77bc9f",
   "metadata": {},
   "outputs": [],
   "source": [
    "df = pd.read_csv('https://raw.githubusercontent.com/fractalbass/data_engineer/master/data.csv')"
   ]
  },
  {
   "cell_type": "code",
   "execution_count": 24,
   "id": "a55db3b9",
   "metadata": {},
   "outputs": [],
   "source": [
    "df.rename(columns = {'0': 'index', '23.82729036706873': 'data'}, inplace = True)\n",
    "df.set_index('index', inplace = True)"
   ]
  },
  {
   "cell_type": "code",
   "execution_count": 25,
   "id": "7b89129b",
   "metadata": {},
   "outputs": [
    {
     "data": {
      "text/html": [
       "<div>\n",
       "<style scoped>\n",
       "    .dataframe tbody tr th:only-of-type {\n",
       "        vertical-align: middle;\n",
       "    }\n",
       "\n",
       "    .dataframe tbody tr th {\n",
       "        vertical-align: top;\n",
       "    }\n",
       "\n",
       "    .dataframe thead th {\n",
       "        text-align: right;\n",
       "    }\n",
       "</style>\n",
       "<table border=\"1\" class=\"dataframe\">\n",
       "  <thead>\n",
       "    <tr style=\"text-align: right;\">\n",
       "      <th></th>\n",
       "      <th>data</th>\n",
       "    </tr>\n",
       "    <tr>\n",
       "      <th>index</th>\n",
       "      <th></th>\n",
       "    </tr>\n",
       "  </thead>\n",
       "  <tbody>\n",
       "    <tr>\n",
       "      <th>1</th>\n",
       "      <td>23.589108</td>\n",
       "    </tr>\n",
       "    <tr>\n",
       "      <th>2</th>\n",
       "      <td>24.529556</td>\n",
       "    </tr>\n",
       "    <tr>\n",
       "      <th>3</th>\n",
       "      <td>16.684580</td>\n",
       "    </tr>\n",
       "    <tr>\n",
       "      <th>4</th>\n",
       "      <td>22.075507</td>\n",
       "    </tr>\n",
       "    <tr>\n",
       "      <th>5</th>\n",
       "      <td>21.892569</td>\n",
       "    </tr>\n",
       "  </tbody>\n",
       "</table>\n",
       "</div>"
      ],
      "text/plain": [
       "            data\n",
       "index           \n",
       "1      23.589108\n",
       "2      24.529556\n",
       "3      16.684580\n",
       "4      22.075507\n",
       "5      21.892569"
      ]
     },
     "execution_count": 25,
     "metadata": {},
     "output_type": "execute_result"
    }
   ],
   "source": [
    "df.head()"
   ]
  },
  {
   "cell_type": "code",
   "execution_count": 26,
   "id": "8fd18b49",
   "metadata": {},
   "outputs": [
    {
     "data": {
      "text/html": [
       "<div>\n",
       "<style scoped>\n",
       "    .dataframe tbody tr th:only-of-type {\n",
       "        vertical-align: middle;\n",
       "    }\n",
       "\n",
       "    .dataframe tbody tr th {\n",
       "        vertical-align: top;\n",
       "    }\n",
       "\n",
       "    .dataframe thead th {\n",
       "        text-align: right;\n",
       "    }\n",
       "</style>\n",
       "<table border=\"1\" class=\"dataframe\">\n",
       "  <thead>\n",
       "    <tr style=\"text-align: right;\">\n",
       "      <th></th>\n",
       "      <th>data</th>\n",
       "    </tr>\n",
       "  </thead>\n",
       "  <tbody>\n",
       "    <tr>\n",
       "      <th>count</th>\n",
       "      <td>9999.000000</td>\n",
       "    </tr>\n",
       "    <tr>\n",
       "      <th>mean</th>\n",
       "      <td>23.035996</td>\n",
       "    </tr>\n",
       "    <tr>\n",
       "      <th>std</th>\n",
       "      <td>2.995436</td>\n",
       "    </tr>\n",
       "    <tr>\n",
       "      <th>min</th>\n",
       "      <td>11.248686</td>\n",
       "    </tr>\n",
       "    <tr>\n",
       "      <th>25%</th>\n",
       "      <td>21.007170</td>\n",
       "    </tr>\n",
       "    <tr>\n",
       "      <th>50%</th>\n",
       "      <td>23.024031</td>\n",
       "    </tr>\n",
       "    <tr>\n",
       "      <th>75%</th>\n",
       "      <td>25.069370</td>\n",
       "    </tr>\n",
       "    <tr>\n",
       "      <th>max</th>\n",
       "      <td>33.286533</td>\n",
       "    </tr>\n",
       "  </tbody>\n",
       "</table>\n",
       "</div>"
      ],
      "text/plain": [
       "              data\n",
       "count  9999.000000\n",
       "mean     23.035996\n",
       "std       2.995436\n",
       "min      11.248686\n",
       "25%      21.007170\n",
       "50%      23.024031\n",
       "75%      25.069370\n",
       "max      33.286533"
      ]
     },
     "execution_count": 26,
     "metadata": {},
     "output_type": "execute_result"
    }
   ],
   "source": [
    "df.describe()"
   ]
  },
  {
   "cell_type": "code",
   "execution_count": 27,
   "id": "207b06c9",
   "metadata": {},
   "outputs": [
    {
     "data": {
      "text/plain": [
       "23.024031115748198"
      ]
     },
     "execution_count": 27,
     "metadata": {},
     "output_type": "execute_result"
    }
   ],
   "source": [
    "df.data.median()"
   ]
  },
  {
   "cell_type": "code",
   "execution_count": 28,
   "id": "c25c2ac5",
   "metadata": {},
   "outputs": [
    {
     "data": {
      "text/plain": [
       "0.00013644111255966445"
      ]
     },
     "execution_count": 28,
     "metadata": {},
     "output_type": "execute_result"
    }
   ],
   "source": [
    "df.data.skew()"
   ]
  },
  {
   "cell_type": "markdown",
   "id": "364edc2c",
   "metadata": {},
   "source": [
    "**Coefficient of variance:**"
   ]
  },
  {
   "cell_type": "code",
   "execution_count": 29,
   "id": "9eb968d6",
   "metadata": {},
   "outputs": [
    {
     "data": {
      "text/plain": [
       "0.1300328245260554"
      ]
     },
     "execution_count": 29,
     "metadata": {},
     "output_type": "execute_result"
    }
   ],
   "source": [
    "df.data.std() / df.data.mean()"
   ]
  },
  {
   "cell_type": "code",
   "execution_count": 30,
   "id": "ff6b4965",
   "metadata": {},
   "outputs": [
    {
     "data": {
      "text/plain": [
       "<AxesSubplot:xlabel='index', ylabel='data'>"
      ]
     },
     "execution_count": 30,
     "metadata": {},
     "output_type": "execute_result"
    },
    {
     "data": {
      "image/png": "[encoded data removed]",
      "text/plain": [
       "<Figure size 432x288 with 1 Axes>"
      ]
     },
     "metadata": {
      "needs_background": "light"
     },
     "output_type": "display_data"
    }
   ],
   "source": [
    "import seaborn as sns\n",
    "sns.scatterplot(x = 'index', y = 'data', data = df)"
   ]
  },
  {
   "cell_type": "markdown",
   "id": "748d3adc",
   "metadata": {},
   "source": [
    "There are 9999 datapoints that are uniformly distributed. Looking at the scatter plot, most values are between 15 and 30.\n",
    "\n",
    "The data has a small coefficient of variance and is very, very slightly positively skewed.\n"
   ]
  },
  {
   "cell_type": "markdown",
   "id": "d21e30df",
   "metadata": {},
   "source": [
    "## Question 4\n",
    "\n",
    "### A. If you were asked to impute null values in a column of a file that was 365 Gigabytes, what would you do?  What tools would you use?  What tools would you NOT use?\n",
    "\n",
    "I do not have any experience working with files of this size, but I know I would need something beyond just Python or R, and will likely need something that uses SQL. A tool like Apache Spark seems like it would be a good tool for working with such a large file. It can also be used with a variety of languages.\n",
    "\n",
    "\n",
    "### B. What would you do if you were asked to do the above task every Thursday morning at 2:00am?\n",
    "\n",
    "I would create either a BASH or Python script that would automate the task.\n",
    "\n",
    "### Question 5 Who is your favorite mathematician, statistician or computer scientist and why?\n",
    "\n",
    "He is not that famous, but my favorite computer scientist is Mike Pound who is a professor at Nottingham University. The reason I like him is because of the videos he has done for the YouTube channel Computerphile. His videos are always very informative but still understanable and entertaining."
   ]
  }
 ],
 "metadata": {
  "kernelspec": {
   "display_name": "Python 3",
   "language": "python",
   "name": "python3"
  },
  "language_info": {
   "codemirror_mode": {
    "name": "ipython",
    "version": 3
   },
   "file_extension": ".py",
   "mimetype": "text/x-python",
   "name": "python",
   "nbconvert_exporter": "python",
   "pygments_lexer": "ipython3",
   "version": "3.8.8"
  }
 },
 "nbformat": 4,
 "nbformat_minor": 5
}
